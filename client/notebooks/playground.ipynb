{
 "cells": [
  {
   "cell_type": "code",
   "execution_count": 1,
   "id": "5a593b0f",
   "metadata": {},
   "outputs": [
    {
     "name": "stdout",
     "output_type": "stream",
     "text": [
      "Enabling notebook extension jupyter-js-widgets/extension...\n",
      "      - Validating: \u001b[32mOK\u001b[0m\n",
      "Enabling: voila\n",
      "- Writing config: /home/awpi/.pyenv/versions/3.11.3/envs/tt_client/etc/jupyter\n",
      "    - Validating...\n",
      "      voila 0.4.0 \u001b[32mOK\u001b[0m\n"
     ]
    }
   ],
   "source": [
    "!jupyter nbextension enable --py widgetsnbextension --sys-prefix\n",
    "!jupyter serverextension enable voila --sys-prefix"
   ]
  },
  {
   "cell_type": "code",
   "execution_count": 2,
   "id": "74269001",
   "metadata": {},
   "outputs": [],
   "source": [
    "import warnings\n",
    "#warnings.filterwarnings(\"ignore\")\n",
    "\n",
    "import ipywidgets as widgets\n",
    "from IPython.display import display, clear_output"
   ]
  },
  {
   "cell_type": "code",
   "execution_count": 3,
   "id": "6ee373c5",
   "metadata": {},
   "outputs": [],
   "source": [
    "%load_ext autoreload\n",
    "%autoreload 2"
   ]
  },
  {
   "cell_type": "code",
   "execution_count": 4,
   "id": "611c292b",
   "metadata": {},
   "outputs": [],
   "source": [
    "from client.client import TraningTrackingClient, ClientException\n",
    "from shared_models.schemas import Exercise, Skill"
   ]
  },
  {
   "cell_type": "code",
   "execution_count": 5,
   "id": "dc279e21",
   "metadata": {},
   "outputs": [],
   "source": [
    "client = TraningTrackingClient(\"http://192.168.178.26:8080\")\n",
    "client.assert_api_health()"
   ]
  },
  {
   "cell_type": "code",
   "execution_count": 24,
   "id": "946c8057",
   "metadata": {},
   "outputs": [
    {
     "data": {
      "application/vnd.jupyter.widget-view+json": {
       "model_id": "e20e0677057c4dba86119931a6694f0e",
       "version_major": 2,
       "version_minor": 0
      },
      "text/plain": [
       "VBox(children=(HBox(children=(Text(value='', description='id:'), Dropdown(description='domain:', index=2, opti…"
      ]
     },
     "execution_count": 24,
     "metadata": {},
     "output_type": "execute_result"
    }
   ],
   "source": [
    "id_input = widgets.Text(\n",
    "    description='id:',\n",
    "    disabled=False   \n",
    ")\n",
    "descrption_input = widgets.Textarea(\n",
    "    description='desc:',\n",
    "    disabled=False   \n",
    ")\n",
    "domain_input=widgets.Dropdown(\n",
    "    options=['gym', 'running', 'drums', 'guitar'],\n",
    "    description='domain:',\n",
    "    value='drums',\n",
    "    disabled=False\n",
    ")\n",
    "insert_button = widgets.Button(description=\"insert skill\")\n",
    "delete_button = widgets.Button(description=\"delete skill\")\n",
    "last_inserted = widgets.Output()\n",
    "\n",
    "def insert_skill(event):\n",
    "    with last_inserted:\n",
    "        clear_output()\n",
    "\n",
    "        skill = Skill(id=id_input.value, description=descrption_input.value, domain=domain_input.value)\n",
    "        try:\n",
    "            client.post_skill(skill)\n",
    "            print(f\"inserted {skill}\")\n",
    "\n",
    "        except ClientException as e:\n",
    "            print(e)\n",
    "            \n",
    "\n",
    "def delete_skill(event):    \n",
    "    with last_inserted:\n",
    "        clear_output()\n",
    "\n",
    "        try:\n",
    "            client.delete_skill(id_input.value)\n",
    "            print(f\"delteted skill w/ id={id_input.value}\")\n",
    "\n",
    "        except ClientException as e:\n",
    "            print(e)\n",
    "        \n",
    "insert_button.on_click(insert_skill)\n",
    "delete_button.on_click(delete_skill)\n",
    "        \n",
    "new_skill_box = widgets.VBox([widgets.HBox([id_input, domain_input, descrption_input, insert_button, delete_button]), last_inserted])\n",
    "new_skill_box"
   ]
  },
  {
   "cell_type": "code",
   "execution_count": 22,
   "id": "eb4c2894",
   "metadata": {},
   "outputs": [
    {
     "data": {
      "application/vnd.jupyter.widget-view+json": {
       "model_id": "d30331073ce94e53bf666703efdecf28",
       "version_major": 2,
       "version_minor": 0
      },
      "text/plain": [
       "VBox(children=(Button(description='get skills', style=ButtonStyle()), Output(outputs=({'output_type': 'stream'…"
      ]
     },
     "metadata": {},
     "output_type": "display_data"
    }
   ],
   "source": [
    "output_get_skill = widgets.Output()\n",
    "button_get_skill = widgets.Button(description=\"get skills\")\n",
    "\n",
    "def on_get_skill_click(event):\n",
    "    with output_get_skill:\n",
    "        clear_output()\n",
    "        for skill in client.get_skills():\n",
    "            print(f\"id={skill.id}\")\n",
    "\n",
    "button_get_skill.on_click(on_get_skill_click)\n",
    "\n",
    "get_skill_box = widgets.VBox([button_get_skill, output_get_skill])\n",
    "display(get_skill_box)"
   ]
  },
  {
   "cell_type": "code",
   "execution_count": 23,
   "id": "f236389f",
   "metadata": {},
   "outputs": [
    {
     "data": {
      "application/vnd.jupyter.widget-view+json": {
       "model_id": "b01ac9484e2b482c917d4e34d09b6066",
       "version_major": 2,
       "version_minor": 0
      },
      "text/plain": [
       "VBox(children=(HBox(children=(Text(value='', description='id:'), Text(value='', description='variation:'), Dro…"
      ]
     },
     "execution_count": 23,
     "metadata": {},
     "output_type": "execute_result"
    }
   ],
   "source": [
    "skill_ids = [s.id for s in client.get_skills()]\n",
    "\n",
    "id_input = widgets.Text(\n",
    "    description='id:',\n",
    "    disabled=False   \n",
    ")\n",
    "variation_input = widgets.Text(\n",
    "    description='variation:',\n",
    "    disabled=False   \n",
    ")\n",
    "descrption_input = widgets.Textarea(\n",
    "    description='desc:',\n",
    "    disabled=False   \n",
    ")\n",
    "domain_input=widgets.Dropdown(\n",
    "    options=['gym', 'running', 'drums', 'guitar'],\n",
    "    description='domain:',\n",
    "    value='drums',\n",
    "    disabled=False\n",
    ")\n",
    "skills_input=widgets.SelectMultiple(\n",
    "    options=skill_ids,\n",
    "    description='skills:',\n",
    "    disabled=False\n",
    ")\n",
    "insert_button = widgets.Button(description=\"insert exercise\")\n",
    "delete_button = widgets.Button(description=\"delete exercise\")\n",
    "last_inserted = widgets.Output()\n",
    "\n",
    "def set_skills(event):\n",
    "    skills_input.options = [s.id for s in client.get_skills(domain=domain_input.value)]\n",
    "\n",
    "set_skills(None)\n",
    "    \n",
    "def insert_exercise(event):\n",
    "    with last_inserted:\n",
    "        clear_output()\n",
    "\n",
    "        exercise = Exercise(id=id_input.value, \n",
    "                            variation=variation_input.value, \n",
    "                            domain=domain_input.value, \n",
    "                            description=descrption_input.value,\n",
    "                            skills=[Skill(id=id, domain=domain_input.value) for id in skills_input.value]\n",
    "                           )\n",
    "        try:\n",
    "            client.post_exercise(exercise)\n",
    "            print(f\"inserted {exercise}\")\n",
    "\n",
    "        except ClientException as e:\n",
    "            print(e)\n",
    "            \n",
    "\n",
    "def delete_exercise(event):\n",
    "    with last_inserted:\n",
    "        clear_output()\n",
    "\n",
    "        try:\n",
    "            client.delete_exercise(id=id_input.value, variation=variation_input.value)\n",
    "            print(f\"delteted skill w/ id={id_input.value}/{variation_input.value}\")\n",
    "\n",
    "        except ClientException as e:\n",
    "            print(e)\n",
    "        \n",
    "insert_button.on_click(insert_exercise)\n",
    "delete_button.on_click(delete_exercise)\n",
    "domain_input.observe(set_skills)\n",
    "        \n",
    "new_skill_box = widgets.VBox([widgets.HBox([id_input, variation_input, domain_input]), \n",
    "                              widgets.HBox([descrption_input, skills_input, insert_button, delete_button]), last_inserted])\n",
    "new_skill_box"
   ]
  },
  {
   "cell_type": "code",
   "execution_count": 10,
   "id": "83adcf71",
   "metadata": {},
   "outputs": [
    {
     "data": {
      "application/vnd.jupyter.widget-view+json": {
       "model_id": "c046bb3bfeef41afbd33c4d9bef64a18",
       "version_major": 2,
       "version_minor": 0
      },
      "text/plain": [
       "VBox(children=(Button(description='get exercises', style=ButtonStyle()), Output()))"
      ]
     },
     "metadata": {},
     "output_type": "display_data"
    }
   ],
   "source": [
    "output_get_exercise = widgets.Output()\n",
    "button_get_exercise = widgets.Button(description=\"get exercises\")\n",
    "\n",
    "def on_get_exercise_click(event):\n",
    "    with output_get_exercise:\n",
    "        clear_output()\n",
    "        for exercise in client.get_exercises():\n",
    "            print(exercise.description)\n",
    "            print(f\"id={exercise.id}, variation={exercise.variation}, skills: {','.join([s.id for s in exercise.skills])}\")\n",
    "\n",
    "button_get_exercise.on_click(on_get_exercise_click)\n",
    "\n",
    "get_exercise_box = widgets.VBox([button_get_exercise, output_get_exercise])\n",
    "display(get_exercise_box)"
   ]
  },
  {
   "cell_type": "code",
   "execution_count": null,
   "id": "1a2cc1f8",
   "metadata": {},
   "outputs": [],
   "source": []
  }
 ],
 "metadata": {
  "kernelspec": {
   "display_name": "Python 3 (ipykernel)",
   "language": "python",
   "name": "python3"
  },
  "language_info": {
   "codemirror_mode": {
    "name": "ipython",
    "version": 3
   },
   "file_extension": ".py",
   "mimetype": "text/x-python",
   "name": "python",
   "nbconvert_exporter": "python",
   "pygments_lexer": "ipython3",
   "version": "3.11.3"
  }
 },
 "nbformat": 4,
 "nbformat_minor": 5
}
